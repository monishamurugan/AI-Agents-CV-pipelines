{
 "cells": [
  {
   "cell_type": "code",
   "execution_count": 1,
   "id": "fadb4119-7372-4625-a2a6-a795215cc422",
   "metadata": {
    "tags": []
   },
   "outputs": [],
   "source": [
    "! pip install langchain_community\n",
    "! pip install -U langgraph\n",
    "!pip install ipython\n",
    "!pip install pygraphviz"
   ]
  },
  {
   "cell_type": "code",
   "execution_count": 2,
   "id": "0dd5026e-54c3-4875-87fa-24ff02af45d2",
   "metadata": {
    "tags": []
   },
   "outputs": [],
   "source": [
    "from datasets import load_dataset, Dataset\n",
    "from transformers import (\n",
    "    AutoModelForCausalLM,\n",
    "    BitsAndBytesConfig,\n",
    "    AutoTokenizer,\n",
    ")\n",
    "import transformers\n",
    "import torch\n",
    "from typing import Dict, TypedDict, Annotated\n",
    "from langgraph.graph import Graph, END\n",
    "from IPython.display import Image, display\n",
    "from langchain_core.runnables.graph import CurveStyle, MermaidDrawMethod, NodeStyles\n",
    "from peft import PeftModel\n",
    "from langgraph.graph.message import add_messages\n",
    "import json"
   ]
  },
  {
   "cell_type": "markdown",
   "id": "6fe03ed0-5981-4dee-82c4-c106766fa227",
   "metadata": {},
   "source": [
    "## Define State"
   ]
  },
  {
   "cell_type": "code",
   "execution_count": 3,
   "id": "db84b43b-8ca7-488d-83d7-298210b7e218",
   "metadata": {
    "tags": []
   },
   "outputs": [],
   "source": [
    "class State(TypedDict):\n",
    "    messages: Annotated[list, add_messages]"
   ]
  },
  {
   "cell_type": "markdown",
   "id": "3689c398-0dcf-4479-98e5-8a007f205aa2",
   "metadata": {},
   "source": [
    "## Utility Functions"
   ]
  },
  {
   "cell_type": "code",
   "execution_count": 4,
   "id": "579b2aa2-246a-4df4-a88d-1a1ae6b6c751",
   "metadata": {
    "tags": []
   },
   "outputs": [],
   "source": [
    "def get_formatted_prompt(prompt):\n",
    "    return f\"Task: Convert the JSON configuration below into a valid gst-launch-1.0 pipeline command.\\nInput JSON:\\n{prompt}\\nOutput:\\n\""
   ]
  },
  {
   "cell_type": "code",
   "execution_count": 5,
   "id": "f61202c8-6c62-4ea5-8482-54cee79b6fcf",
   "metadata": {
    "tags": []
   },
   "outputs": [],
   "source": [
    "model_name='microsoft/phi-2'\n",
    "eval_tokenizer = AutoTokenizer.from_pretrained(model_name, add_bos_token=True, trust_remote_code=True, use_fast=False)\n",
    "eval_tokenizer.pad_token = eval_tokenizer.eos_token\n",
    "def generate_text_from_model(model, prompt):\n",
    "    toks = eval_tokenizer(prompt, return_tensors=\"pt\")\n",
    "    res = model.generate(**toks.to(\"cuda\"), max_new_tokens=500, do_sample=True,num_return_sequences=1,temperature=0.1,num_beams=1,top_p=0.95,).to('cpu')\n",
    "    return eval_tokenizer.batch_decode(res,skip_special_tokens=True)"
   ]
  },
  {
   "cell_type": "markdown",
   "id": "f9dc5e40-f7bb-42e5-8edd-06ac9c109869",
   "metadata": {},
   "source": [
    "## Agent 1: SQL "
   ]
  },
  {
   "cell_type": "code",
   "execution_count": 6,
   "id": "a7a4b102-52eb-4041-86c9-9dccace35863",
   "metadata": {
    "tags": []
   },
   "outputs": [],
   "source": [
    "def sql_node(state: State) -> State:\n",
    "    user_input = state[\"messages\"][-1][\"content\"]\n",
    "    # Hardcoded JSON response\n",
    "    mock_sql_result = {\n",
    "      \"source_type\": \"rtsp\",\n",
    "      \"source_location\": \"rtsp://192.168.1.92:8047/backup_low\",\n",
    "      \"caps_filter\": \"Y444_12BE\",\n",
    "      \"frame_rate\": \"1/1\",\n",
    "      \"detect\": {\n",
    "        \"model\": \"/home/user/.local/models/tensorflow/classification/2.0/INT8/model_9689.xml\",\n",
    "        \"device\": \"HDDL\",\n",
    "        \"model_proc\": \"/opt/intel/model_proc/classification/model_1131.json\"\n",
    "      },\n",
    "      \"track\": {\n",
    "        \"tracking_type\": \"zero-term\"\n",
    "      },\n",
    "      \"emit_signals\": False,\n",
    "      \"sync\": False,\n",
    "      \"drop\": False\n",
    "    }\n",
    "    \n",
    "    agent_response = {\n",
    "        \"role\": \"SQL Agent\",\n",
    "        \"content\": json.dumps(mock_sql_result)\n",
    "    }\n",
    "    \n",
    "    return {\n",
    "        \"messages\": state[\"messages\"] + [agent_response]\n",
    "    }"
   ]
  },
  {
   "cell_type": "markdown",
   "id": "7672dc6e-dd36-4128-b31d-897feedc4b3d",
   "metadata": {},
   "source": [
    "## Agent 2: Pipeline Creation "
   ]
  },
  {
   "cell_type": "code",
   "execution_count": 7,
   "id": "43907712-bdbc-4dcb-98cc-82a1dbd4140b",
   "metadata": {
    "tags": []
   },
   "outputs": [],
   "source": [
    "# Pipeline Creation Node function\n",
    "def pipeline_creation_node(state: State) -> State:\n",
    "    compute_dtype = getattr(torch, \"float16\")\n",
    "    bnb_config = BitsAndBytesConfig(\n",
    "            load_in_4bit=True,\n",
    "            bnb_4bit_quant_type='nf4',\n",
    "            bnb_4bit_compute_dtype=compute_dtype,\n",
    "            bnb_4bit_use_double_quant=False,\n",
    "        )\n",
    "    base_model = AutoModelForCausalLM.from_pretrained(model_name, \n",
    "                                                      device_map='auto',\n",
    "                                                      quantization_config=bnb_config,\n",
    "                                                      trust_remote_code=True,\n",
    "                                                      use_auth_token=True)\n",
    "    \n",
    "    # Fine Tuned Model\n",
    "    ft_model = PeftModel.from_pretrained(base_model, \"peft_GST_pipeline_training_QLora/final-checkpoint/checkpoint-100\",torch_dtype=torch.float16,is_trainable=False)\n",
    "    \n",
    "    sql_results = json.loads(state[\"messages\"][-1][\"content\"])\n",
    "    \n",
    "    # Generate response\n",
    "    formatted_prompt = get_formatted_prompt(sql_results)\n",
    "    peft_model_res = generate_text_from_model(ft_model,formatted_prompt)\n",
    "    peft_model_output = peft_model_res[0].split('Output:\\n')[1]\n",
    "    output, success, result = peft_model_output.partition('\\n')\n",
    "    agent_response = {\n",
    "        \"role\": \"Pipeline Creation Agent\",\n",
    "        \"content\": output\n",
    "    }\n",
    "    return {\n",
    "        \"messages\": state[\"messages\"] + [agent_response]\n",
    "    }\n",
    "    "
   ]
  },
  {
   "cell_type": "markdown",
   "id": "a12b3978-fad1-4dda-9c67-fa2e89aafe0e",
   "metadata": {},
   "source": [
    "# Graph"
   ]
  },
  {
   "cell_type": "code",
   "execution_count": 8,
   "id": "f5f89e13-f1a2-4bf8-800f-57c297490583",
   "metadata": {
    "tags": []
   },
   "outputs": [],
   "source": [
    "# Create the graph\n",
    "def create_graph():\n",
    "    # Initialize the graph\n",
    "    workflow = Graph()\n",
    "    \n",
    "    # Add nodes\n",
    "    workflow.add_node(\"sql\", sql_node)\n",
    "    workflow.add_node(\"pipeline_creation\", pipeline_creation_node)\n",
    "    \n",
    "    # Define edges\n",
    "    workflow.add_edge(\"sql\", \"pipeline_creation\")\n",
    "    \n",
    "    # Set the entry point\n",
    "    workflow.set_entry_point(\"sql\")\n",
    "    \n",
    "    # Set the exit point\n",
    "    workflow.add_edge(\"pipeline_creation\", END)\n",
    "    \n",
    "    \n",
    "    return workflow.compile()\n"
   ]
  },
  {
   "cell_type": "code",
   "execution_count": 9,
   "id": "d8bd0e4b-cbe0-41d6-afcb-fe4b8333e894",
   "metadata": {
    "tags": []
   },
   "outputs": [],
   "source": [
    "# Create the graph\n",
    "graph = create_graph()"
   ]
  },
  {
   "cell_type": "markdown",
   "id": "2d163a49-94c0-415e-b8c8-380dede6326e",
   "metadata": {},
   "source": [
    "## Visualize Graph"
   ]
  },
  {
   "cell_type": "code",
   "execution_count": 10,
   "id": "79af22f9-c99a-4966-a63a-b66aa5014680",
   "metadata": {
    "tags": []
   },
   "outputs": [
    {
     "data": {
      "image/png": "[encoded data removed]",
      "text/plain": [
       "<IPython.core.display.Image object>"
      ]
     },
     "metadata": {},
     "output_type": "display_data"
    }
   ],
   "source": [
    "display(\n",
    "    Image(\n",
    "        graph.get_graph().draw_mermaid_png(\n",
    "            draw_method=MermaidDrawMethod.API,\n",
    "        )\n",
    "    )\n",
    ")"
   ]
  },
  {
   "cell_type": "markdown",
   "id": "b1a14f8b-8765-4f3a-8f76-a71183655fac",
   "metadata": {},
   "source": [
    "## Inference"
   ]
  },
  {
   "cell_type": "code",
   "execution_count": 11,
   "id": "720d1355-4ae4-4527-9e2a-6f69cf4fdc4a",
   "metadata": {},
   "outputs": [
    {
     "name": "stderr",
     "output_type": "stream",
     "text": [
      "/home/studio-lab-user/.conda/envs/default/lib/python3.9/site-packages/transformers/models/auto/auto_factory.py:471: FutureWarning: The `use_auth_token` argument is deprecated and will be removed in v5 of Transformers. Please use `token` instead.\n",
      "  warnings.warn(\n"
     ]
    },
    {
     "data": {
      "application/vnd.jupyter.widget-view+json": {
       "model_id": "fdd1630753be41ab895fde6e59d16102",
       "version_major": 2,
       "version_minor": 0
      },
      "text/plain": [
       "Loading checkpoint shards:   0%|          | 0/2 [00:00<?, ?it/s]"
      ]
     },
     "metadata": {},
     "output_type": "display_data"
    },
    {
     "name": "stderr",
     "output_type": "stream",
     "text": [
      "Setting `pad_token_id` to `eos_token_id`:50256 for open-end generation.\n"
     ]
    }
   ],
   "source": [
    "# Define initial state\n",
    "initial_state = State(\n",
    "    messages=[\n",
    "        {\n",
    "            \"role\": \"user\",\n",
    "            \"content\": \"Setup Occupancy Agent in Bangalore for Nike\"\n",
    "        }\n",
    "    ]\n",
    ")\n",
    "\n",
    "# Run the graph\n",
    "final_state = graph.invoke(initial_state)"
   ]
  },
  {
   "cell_type": "code",
   "execution_count": 12,
   "id": "2054f5ac-3d2c-45ce-9ec3-db9173c13034",
   "metadata": {
    "tags": []
   },
   "outputs": [
    {
     "data": {
      "text/plain": [
       "{'messages': [{'role': 'user',\n",
       "   'content': 'Setup Occupancy Agent in Bangalore for Nike'},\n",
       "  {'role': 'SQL Agent',\n",
       "   'content': '{\"source_type\": \"rtsp\", \"source_location\": \"rtsp://192.168.1.92:8047/backup_low\", \"caps_filter\": \"Y444_12BE\", \"frame_rate\": \"1/1\", \"detect\": {\"model\": \"/home/user/.local/models/tensorflow/classification/2.0/INT8/model_9689.xml\", \"device\": \"HDDL\", \"model_proc\": \"/opt/intel/model_proc/classification/model_1131.json\"}, \"track\": {\"tracking_type\": \"zero-term\"}, \"emit_signals\": false, \"sync\": false, \"drop\": false}'},\n",
       "  {'role': 'Pipeline Creation Agent',\n",
       "   'content': 'rtspsrc location=rtsp://192.168.1.92:8047/backup_low! rtph264depay! h264parse! avdec_h264! videoconvert! videorate! video/x-raw,framerate=1/1! videoconvert! capsfilter caps=video/x-raw,format=Y444_12BE! queue! gvadetect model=/home/user/.local/models/tensorflow/classification/2.0/INT8/model_9689.xml device=HDDL model-proc=/opt/intel/model_proc/classification/model_1131.json! queue! gvatrack tracking-type=zero-term! queue! appsink name=appsink emit-signals=False drop=False sync=False'}]}"
      ]
     },
     "execution_count": 12,
     "metadata": {},
     "output_type": "execute_result"
    }
   ],
   "source": [
    "# Print conversation flow\n",
    "final_state"
   ]
  },
  {
   "cell_type": "code",
   "execution_count": null,
   "id": "d99afcc7-45a7-4a7f-9ce0-77f9bd8a6aa7",
   "metadata": {},
   "outputs": [],
   "source": []
  }
 ],
 "metadata": {
  "kernelspec": {
   "display_name": ".conda-default:Python",
   "language": "python",
   "name": "conda-env-.conda-default-py"
  },
  "language_info": {
   "codemirror_mode": {
    "name": "ipython",
    "version": 3
   },
   "file_extension": ".py",
   "mimetype": "text/x-python",
   "name": "python",
   "nbconvert_exporter": "python",
   "pygments_lexer": "ipython3",
   "version": "3.9.19"
  }
 },
 "nbformat": 4,
 "nbformat_minor": 5
}
