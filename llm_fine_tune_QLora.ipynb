{
 "cells": [
  {
   "cell_type": "markdown",
   "id": "9d166663-418c-481b-a5d4-8ddf3fcf8616",
   "metadata": {
    "tags": []
   },
   "source": [
    "# LLM-Powered AI Agents for Building and Validating Computer Vision Pipelines"
   ]
  },
  {
   "cell_type": "markdown",
   "id": "bb24d6c6-3c12-42b5-918d-fc81a3a1732e",
   "metadata": {},
   "source": [
    "### Install required libraries"
   ]
  },
  {
   "cell_type": "code",
   "execution_count": null,
   "id": "33384789-2c89-46f4-be8a-86512c24811f",
   "metadata": {},
   "outputs": [],
   "source": []
  },
  {
   "cell_type": "markdown",
   "id": "3fa100bd-e3ee-48dc-ad5e-0e4eb65d1c08",
   "metadata": {},
   "source": [
    "### Loading the required libraries"
   ]
  },
  {
   "cell_type": "code",
   "execution_count": null,
   "id": "bdbbd90b-81ae-4a77-8247-dda29f3ca32a",
   "metadata": {},
   "outputs": [],
   "source": []
  },
  {
   "cell_type": "markdown",
   "id": "bd7ee265-202f-4b57-9ebf-1670bf0987fa",
   "metadata": {},
   "source": [
    "### Loading dataset"
   ]
  },
  {
   "cell_type": "code",
   "execution_count": null,
   "id": "1c0642ce-ec32-4bc7-bf35-3c184060f8d6",
   "metadata": {},
   "outputs": [],
   "source": []
  }
 ],
 "metadata": {
  "kernelspec": {
   "display_name": ".conda-default:Python",
   "language": "python",
   "name": "conda-env-.conda-default-py"
  },
  "language_info": {
   "codemirror_mode": {
    "name": "ipython",
    "version": 3
   },
   "file_extension": ".py",
   "mimetype": "text/x-python",
   "name": "python",
   "nbconvert_exporter": "python",
   "pygments_lexer": "ipython3",
   "version": "3.9.19"
  }
 },
 "nbformat": 4,
 "nbformat_minor": 5
}
